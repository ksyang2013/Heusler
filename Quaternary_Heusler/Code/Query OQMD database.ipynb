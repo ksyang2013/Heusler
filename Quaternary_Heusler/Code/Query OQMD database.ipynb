{
 "cells": [
  {
   "cell_type": "markdown",
   "id": "e6d4c375",
   "metadata": {},
   "source": [
    "## Quaternary Heusler Query from OQMD database by mysql code"
   ]
  },
  {
   "cell_type": "markdown",
   "id": "77d269e9",
   "metadata": {},
   "source": [
    "1.Use mysql code to find compound (4 atoms, 4 elements ,spacegroup 216, convex<0.1, formation <0)\n",
    "attention: may have duplicated entry_id"
   ]
  },
  {
   "cell_type": "code",
   "execution_count": null,
   "id": "70b02aa8",
   "metadata": {},
   "outputs": [],
   "source": [
    "select * from (select * from formation_energies where stability < 0.1 and delta_e <0) as t1 inner join (select * from structures where natoms=4 and ntypes=4 and spacegroup_id=216 and label='static') as t2 inner join (select * from calculations where label='static') as t3 where t1.entry_id =t2.entry_id and t2.entry_id = t3.entry_id into outfile './full_QH_magmom.csv' FIELDS TERMINATED BY ',' ENCLOSED BY '\"' LINES TERMINATED BY '\\r\\n';"
   ]
  },
  {
   "cell_type": "markdown",
   "id": "21ddba96",
   "metadata": {},
   "source": [
    "2.Use qmpy.structure to find compounds structures with the entry_id."
   ]
  },
  {
   "cell_type": "code",
   "execution_count": null,
   "id": "a1bd2a04",
   "metadata": {},
   "outputs": [],
   "source": [
    "from qmpy import *\n",
    "import pandas as pd\n",
    "from collections import OrderedDict\n",
    "import json\n",
    "entry = []\n",
    "with open (\"entry_id.txt\",'r') as f:\n",
    "    data = f.readlines()\n",
    "    for i in data:\n",
    "        entry.append(i.rstrip('\\n'))\n",
    "\n",
    "QH = OrderedDict()\n",
    "for i in entry:\n",
    "    s=Structure.objects.filter(entry_id = i,label='static')[0]\n",
    "    QH[i] = {\"composition\":s.composition_id,\"entry_id\":i,\"structure\":io.poscar.write(s)}\n",
    "\n",
    "with open(\"QH_mysql.json\",\"w\") as ff:\n",
    "    json.dump(QH,ff)"
   ]
  },
  {
   "cell_type": "markdown",
   "id": "edcfc038",
   "metadata": {},
   "source": [
    "3.post processing data: (Query_QH_mysql-magmom)\n",
    "key functions:"
   ]
  },
  {
   "cell_type": "code",
   "execution_count": null,
   "id": "8db28fe0",
   "metadata": {},
   "outputs": [],
   "source": [
    "### compare poscar of two structures\n",
    "from pymatgen.io.vasp import Poscar\n",
    "from pymatgen.analysis.structure_matcher import StructureMatcher\n",
    "\n",
    "def compare_poscar(poscar1,poscar2):\n",
    "    sm = StructureMatcher()\n",
    "    poscar1 = Poscar.from_string(poscar1)\n",
    "    poscar2 = Poscar.from_string(poscar2)\n",
    "    s1 = poscar1.structure\n",
    "    s2 = poscar2.structure\n",
    "    similar = sm.fit(s1,s2)\n",
    "    return similar"
   ]
  },
  {
   "cell_type": "code",
   "execution_count": null,
   "id": "8e81b6c8",
   "metadata": {},
   "outputs": [],
   "source": [
    "#get QH XX'YZ correct name\n",
    "from pymatgen.symmetry.analyzer import SpacegroupAnalyzer\n",
    "from pymatgen.core.structure import IStructure\n",
    "def get_correct_name(j):\n",
    "    X1 = None\n",
    "    X2 = None\n",
    "    Y = None\n",
    "    Z = None\n",
    "    poscar = QH[j]['poscar']\n",
    "    primitive_structure = IStructure.from_str(poscar, fmt='poscar')\n",
    "    SGA = SpacegroupAnalyzer(primitive_structure)\n",
    "    conventional_structure = SGA.get_conventional_standard_structure()\n",
    "    for i in range(0,16):\n",
    "        coord = conventional_structure.sites[i]\n",
    "        if coord.a == coord.b and coord.b == coord.c and coord.c==0.5:\n",
    "            for ele,num in conventional_structure.sites[i].species.items():\n",
    "                Z = ele.symbol\n",
    "        if coord.a == coord.b and coord.b == coord.c and coord.c==0:\n",
    "            for ele,num in conventional_structure.sites[i].species.items():\n",
    "                Y = ele.symbol\n",
    "        if coord.a == coord.b and coord.b == coord.c and coord.c==0.25:\n",
    "            for ele,num in conventional_structure.sites[i].species.items():\n",
    "                X2 = ele.symbol\n",
    "        if coord.a == 0.75 and coord.b == coord.c and coord.c==0.25:\n",
    "            for ele,num in conventional_structure.sites[i].species.items():\n",
    "                X1 = ele.symbol\n",
    "    name = 'POSCAR_'+X1+X2+Y+Z\n",
    "    conventional_structure.to(fmt=\"poscar\",filename='./OQMD_all/%s'%name)\n",
    "    return name,conventional_structure.lattice.abc[0],conventional_structure.lattice.abc[1],conventional_structure.lattice.abc[2]"
   ]
  },
  {
   "cell_type": "code",
   "execution_count": null,
   "id": "11354832",
   "metadata": {},
   "outputs": [],
   "source": [
    "## remove rare-earth compounds\n",
    "from pymatgen.core import Composition, Element\n",
    "sb_uni_no_rare = deepcopy(sb_unique)\n",
    "for i in sb_unique:\n",
    "    Comp = Composition(i.split('_')[0])\n",
    "    for ele,num in Comp.items():\n",
    "        if ele.is_rare_earth_metal == True:\n",
    "            sb_uni_no_rare.remove(i)\n",
    "            break"
   ]
  },
  {
   "cell_type": "code",
   "execution_count": null,
   "id": "d67a474f",
   "metadata": {},
   "outputs": [],
   "source": []
  }
 ],
 "metadata": {
  "kernelspec": {
   "display_name": "Python 3",
   "language": "python",
   "name": "python3"
  },
  "language_info": {
   "codemirror_mode": {
    "name": "ipython",
    "version": 3
   },
   "file_extension": ".py",
   "mimetype": "text/x-python",
   "name": "python",
   "nbconvert_exporter": "python",
   "pygments_lexer": "ipython3",
   "version": "3.9.2"
  }
 },
 "nbformat": 4,
 "nbformat_minor": 5
}
